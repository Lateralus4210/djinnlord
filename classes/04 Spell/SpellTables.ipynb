{
 "cells": [
  {
   "cell_type": "code",
   "execution_count": null,
   "id": "c373599d-7df6-45e5-995c-0b0db071fe90",
   "metadata": {},
   "outputs": [],
   "source": [
    "class SpellTables:\n",
    "    data = {\n",
    "            \"puff of wind\": (\"Puff of Wind\", 1, 10, 13, \"Air\", 1),\n",
    "            \"puddle blast\": (\"Puddle Blast\", 5, 16, 17, \"Water\", 5),\n",
    "            \"dirt shot\": (\"Dirt Shot\", 7, 22, 19, \"Ground\", 7),\n",
    "            \"fire fling\": (\"Fire Fling\", 10, 28, 22, \"Fire\", 10),\n",
    "            \"solid bubble\": (\"Solid Bubble\", 13, 34, 25, \"Water\", 13),\n",
    "            \"jagged pebbles\": (\"Jagged Pebbles\", 16, 40, 28, \"Ground\", 16),\n",
    "            \"blister wind\": (\"Blister Wind\", 19, 46, 31, \"Air\", 19),\n",
    "            \"splinters\": (\"Splinters\", 22, 52, 34, \"Wood\", 22),\n",
    "            \"searing\": (\"Searing\", 25, 58, 37, \"Fire\", 25),\n",
    "            \"scald\": (\"Scald\", 28, 64, 40, \"Water\", 28),\n",
    "            \"particle fry\": (\"Particle Fry\", 31, 70, 43, \"Electric\", 31),\n",
    "            \"burden boulder\": (\"Burden Boulder\", 34, 76, 46, \"Ground\", 34),\n",
    "            \"hefty stake\": (\"Hefty Stake\", 37, 82, 49, \"Wood\", 37),\n",
    "            \"ooze\": (\"Ooze\", 40, 88, 52, \"Amoeba\", 40),\n",
    "            \"tornado torture\": (\"Tornado Torture\", 45, 94, 57, \"Air\", 45),\n",
    "            \"water binding\": (\"Water Binding\", 50, 100, 62, \"Water\", 50),\n",
    "            \"roaring flame whip\": (\"Roaring Flame Whip\", 55, 106, 67, \"Fire\", 55),\n",
    "            \"involuntary spasm\": (\"Involuntary Spasm\", 60, 112, 72, \"Electric\", 60),\n",
    "            \"weight of mountains\": (\"Weight of Mountains\", 65, 118, 77, \"Ground\", 65),\n",
    "            \"age advance\": (\"Age Advance\", 70, 124, 82, \"Entropy\", 70),\n",
    "            \"augustus\": (\"Augustus\", 75, 130, 87, \"Air\", 75),\n",
    "            \"asphyxiate\": (\"Asphyxiate\", 80, 136, 92, \"Water\", 80),\n",
    "            \"cell rearrange\": (\"Cell Rearrange\", 85, 142, 97, \"Amoeba\", 85),\n",
    "            \"engulf\": (\"Engulf\", 90, 148, 102, \"Fire\", 90),\n",
    "            \"wither to ash\": (\"Wither to Ash\", 95, 154, 107, \"Electric\", 95),\n",
    "            \"halt\": (\"Halt\", 100, 112, \"Time\", 100)\n",
    "            }"
   ]
  },
  {
   "cell_type": "code",
   "execution_count": null,
   "id": "4db10144-439f-4ace-8c70-6edd29b826b9",
   "metadata": {},
   "outputs": [],
   "source": [
    "print(\"SpellTables class loaded.\")"
   ]
  }
 ],
 "metadata": {
  "kernelspec": {
   "display_name": "Python 3 (ipykernel)",
   "language": "python",
   "name": "python3"
  },
  "language_info": {
   "codemirror_mode": {
    "name": "ipython",
    "version": 3
   },
   "file_extension": ".py",
   "mimetype": "text/x-python",
   "name": "python",
   "nbconvert_exporter": "python",
   "pygments_lexer": "ipython3",
   "version": "3.12.1"
  }
 },
 "nbformat": 4,
 "nbformat_minor": 5
}
