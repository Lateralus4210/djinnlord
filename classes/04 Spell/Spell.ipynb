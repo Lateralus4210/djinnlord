{
 "cells": [
  {
   "cell_type": "code",
   "execution_count": 1,
   "id": "5203d55d-00c2-4336-b3a4-cde824d60b4a",
   "metadata": {},
   "outputs": [
    {
     "name": "stdout",
     "output_type": "stream",
     "text": [
      "Cast , a level 0  type spell. DMG: 0.\n"
     ]
    }
   ],
   "source": [
    "class Spell:\n",
    "    spell_name = \"\"\n",
    "    spell_name_proper = \"\" \n",
    "    spell_level = 0\n",
    "    spell_base_damage = 0 \n",
    "    spell_chi_use = 0\n",
    "    spell_type = \"\"\n",
    "    character_level_spell_unlock = 0\n",
    "\n",
    "    def cast_spell(spell_name):\n",
    "    \n",
    "        (spell_name_proper, \n",
    "         spell_level, \n",
    "         spell_base_damage, \n",
    "         spell_chi_use, \n",
    "         spell_type, \n",
    "         character_level_spell_unlock) = SpellTables.data[spell_name]\n",
    "        \n",
    "        if Enemy.health_current > 0 and spell_name in SpellTables.data:\n",
    "            \n",
    "            CommandsFrame.entry_listbox.insert(0, \"Cast \" + spell_name_proper + \n",
    "                                               \" (\" + spell_type + \" type) (\" + \n",
    "                                               str(spell_chi_use) + \" chi).\")\n",
    "\n",
    "            #InterfaceUpdate.update_enemy_health_progressbar()\n",
    "\n",
    "            print(\"Cast \" + spell_name + \", a level \" + str(spell_level) + \" \" + spell_type + \" type spell. DMG: \" + str(spell_base_damage) + \".\")\n",
    "            debug_listbox.insert(0, \"Cast \" + spell_name + \", a level \" + str(spell_level) + \" \" + spell_type + \" type spell. DMG: \" + str(spell_base_damage) + \".\")\n",
    "    \n",
    "        if Enemy.health_current <= 0:\n",
    "            CommandsFrame.entry_listbox.insert(0, \"Your opponent has died already.\")\n",
    "\n",
    "        CharacterSkills.chi_current -= spell_chi_use\n",
    "        CharacterFrame.chi_label.config(text=(\"Chi: \" + str(CharacterSkills.chi_current) + \"/\" + str(CharacterSkills.chi_max)))\n",
    "        \n",
    "        Enemy.health_current -= spell_base_damage\n",
    "\n",
    "        if Enemy.health_current > 0:\n",
    "            EnemyFrame.enemy_health_current_label.config(text=str(Enemy.health_current) + \" / \" + str(Enemy.health_max))\n",
    "\n",
    "        elif Enemy.health_current <= 0:\n",
    "            Enemy.health_current = 0\n",
    "            EnemyFrame.enemy_health_current_label.config(text=\"\")"
   ]
  },
  {
   "cell_type": "code",
   "execution_count": 1,
   "id": "de55198a-2a9c-4ee2-9131-4958f94e2101",
   "metadata": {},
   "outputs": [
    {
     "name": "stdout",
     "output_type": "stream",
     "text": [
      "Spell class loaded.\n"
     ]
    },
    {
     "ename": "NameError",
     "evalue": "name 'SpellTables' is not defined",
     "output_type": "error",
     "traceback": [
      "\u001b[1;31m---------------------------------------------------------------------------\u001b[0m",
      "\u001b[1;31mNameError\u001b[0m                                 Traceback (most recent call last)",
      "Cell \u001b[1;32mIn[1], line 3\u001b[0m\n\u001b[0;32m      1\u001b[0m \u001b[38;5;28mprint\u001b[39m(\u001b[38;5;124m\"\u001b[39m\u001b[38;5;124mSpell class loaded.\u001b[39m\u001b[38;5;124m\"\u001b[39m)\n\u001b[1;32m----> 3\u001b[0m \u001b[38;5;28mrepr\u001b[39m(\u001b[43mSpellTables\u001b[49m\u001b[38;5;241m.\u001b[39mdata)\n",
      "\u001b[1;31mNameError\u001b[0m: name 'SpellTables' is not defined"
     ]
    }
   ],
   "source": [
    "print(\"Spell class loaded.\")\n",
    "\n",
    "repr(SpellTables.data)"
   ]
  },
  {
   "cell_type": "code",
   "execution_count": null,
   "id": "ae550a17-d73e-4411-9cfd-f1addcc23a18",
   "metadata": {},
   "outputs": [],
   "source": []
  }
 ],
 "metadata": {
  "kernelspec": {
   "display_name": "Python 3 (ipykernel)",
   "language": "python",
   "name": "python3"
  },
  "language_info": {
   "codemirror_mode": {
    "name": "ipython",
    "version": 3
   },
   "file_extension": ".py",
   "mimetype": "text/x-python",
   "name": "python",
   "nbconvert_exporter": "python",
   "pygments_lexer": "ipython3",
   "version": "3.12.1"
  }
 },
 "nbformat": 4,
 "nbformat_minor": 5
}
