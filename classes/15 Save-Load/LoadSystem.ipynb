{
 "cells": [
  {
   "cell_type": "code",
   "execution_count": null,
   "id": "da37fec0-f016-4751-b1f9-e0037da73a36",
   "metadata": {},
   "outputs": [],
   "source": []
  }
 ],
 "metadata": {
  "kernelspec": {
   "display_name": "Python 3 (ipykernel)",
   "language": "python",
   "name": "python3"
  },
  "language_info": {
   "name": ""
  }
 },
 "nbformat": 4,
 "nbformat_minor": 5
}
