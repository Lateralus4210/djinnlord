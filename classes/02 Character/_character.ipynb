{
 "cells": [
  {
   "cell_type": "code",
   "execution_count": null,
   "id": "9b9a1d79-ea1b-4157-bb7f-f3bf45e82bf5",
   "metadata": {},
   "outputs": [],
   "source": [
    "%run \"classes/02 Character/CharacterProfile.ipynb\"\n",
    "    \n",
    "%run \"classes/02 Character/CharacterSkills.ipynb\"\n",
    "\n",
    "%run \"classes/02 Character/CharacterAttributes.ipynb\"\n",
    "\n",
    "%run \"classes/02 Character/CharacterLocation.ipynb\""
   ]
  }
 ],
 "metadata": {
  "kernelspec": {
   "display_name": "Python 3 (ipykernel)",
   "language": "python",
   "name": "python3"
  },
  "language_info": {
   "codemirror_mode": {
    "name": "ipython",
    "version": 3
   },
   "file_extension": ".py",
   "mimetype": "text/x-python",
   "name": "python",
   "nbconvert_exporter": "python",
   "pygments_lexer": "ipython3",
   "version": "3.12.1"
  }
 },
 "nbformat": 4,
 "nbformat_minor": 5
}
