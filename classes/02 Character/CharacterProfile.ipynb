{
 "cells": [
  {
   "cell_type": "code",
   "execution_count": null,
   "id": "93e1d542-2041-477d-83e4-b00797bad543",
   "metadata": {},
   "outputs": [],
   "source": [
    "class CharacterProfile:\n",
    "    name = \"Name\"\n",
    "    in_battle=False\n",
    "    number_enemies_defeated=0\n",
    "    map_explored = len(Map.map_explored_dict)/2601\n",
    "\n",
    "    def update_character_name(name):\n",
    "        capitalized_name = name.capitalize()\n",
    "        CharacterProfile.name = capitalized_name\n",
    "        CharacterFrame.name_label.config(text=CharacterProfile.name + \", Level \" + str(CharacterSkills.level_current))"
   ]
  },
  {
   "cell_type": "code",
   "execution_count": null,
   "id": "6b6c2b8d-b3f2-46c9-98ea-b0aaf7c4b1d3",
   "metadata": {},
   "outputs": [],
   "source": [
    "print(\"CharacterProfile class loaded.\")"
   ]
  }
 ],
 "metadata": {
  "kernelspec": {
   "display_name": "Python 3 (ipykernel)",
   "language": "python",
   "name": "python3"
  },
  "language_info": {
   "codemirror_mode": {
    "name": "ipython",
    "version": 3
   },
   "file_extension": ".py",
   "mimetype": "text/x-python",
   "name": "python",
   "nbconvert_exporter": "python",
   "pygments_lexer": "ipython3",
   "version": "3.12.1"
  }
 },
 "nbformat": 4,
 "nbformat_minor": 5
}
