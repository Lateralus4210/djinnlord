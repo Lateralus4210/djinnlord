{
 "cells": [
  {
   "cell_type": "code",
   "execution_count": null,
   "id": "d4780631-a9cd-47fc-b324-15b5faf97f11",
   "metadata": {},
   "outputs": [],
   "source": [
    "class CharacterAttributes:\n",
    "\n",
    "    true_attributes = {} # tracks the number of attributes that are set to True to affect scaling of attributes interface.\n",
    "    \n",
    "    has_hunger=False # player needs to eat or take damage.\n",
    "    has_fog=False # causes character attacks to only do 20% damage\n",
    "    has_focus=False # causes character to earn XP at 120%.\n",
    "    has_hyperfocus=False # causes character to earn XP at 175%.\n",
    "\n",
    "    \n"
   ]
  },
  {
   "cell_type": "code",
   "execution_count": null,
   "id": "065d5627-dc72-4adf-904d-2f2ffc6c2001",
   "metadata": {},
   "outputs": [],
   "source": [
    "print(\"CharacterAttribute class loaded.\")"
   ]
  }
 ],
 "metadata": {
  "kernelspec": {
   "display_name": "Python 3 (ipykernel)",
   "language": "python",
   "name": "python3"
  },
  "language_info": {
   "codemirror_mode": {
    "name": "ipython",
    "version": 3
   },
   "file_extension": ".py",
   "mimetype": "text/x-python",
   "name": "python",
   "nbconvert_exporter": "python",
   "pygments_lexer": "ipython3",
   "version": "3.12.1"
  }
 },
 "nbformat": 4,
 "nbformat_minor": 5
}
