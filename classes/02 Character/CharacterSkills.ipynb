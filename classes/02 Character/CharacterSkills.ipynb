{
 "cells": [
  {
   "cell_type": "code",
   "execution_count": null,
   "id": "1df9a8d7-a8be-471a-8e32-47f9ef80a1e3",
   "metadata": {},
   "outputs": [],
   "source": [
    "class CharacterSkills:\n",
    "    level_current=1\n",
    "    health_max=50\n",
    "    health_current=50\n",
    "    energy_current=100\n",
    "    energy_max=100\n",
    "    chi_max=(4 * level_current) + 96\n",
    "    chi_current=chi_max\n",
    "    attack_accuracy=50\n",
    "\n",
    "    def determine_character_attack_accuracy():\n",
    "        \n",
    "        scaling_factor = 50 / 100  # Calculate the scaling factor\n",
    "    \n",
    "        if CharacterSkills.level_current == 1:\n",
    "            CharacterSkills.attack_accuracy = 50\n",
    "    \n",
    "        else:\n",
    "            CharacterSkills.attack_accuracy = 50 + (player_level - 1) * scaling_factor\n",
    "\n",
    "        if CharacterSkills.attack_accuracy > 100:\n",
    "            CharacterSkills.attack_accuracy = 100"
   ]
  },
  {
   "cell_type": "code",
   "execution_count": null,
   "id": "6e91f818-3bca-41ea-ab66-df272d220f05",
   "metadata": {},
   "outputs": [],
   "source": [
    "print(\"CharacterSkills class loaded.\")"
   ]
  }
 ],
 "metadata": {
  "kernelspec": {
   "display_name": "Python 3 (ipykernel)",
   "language": "python",
   "name": "python3"
  },
  "language_info": {
   "codemirror_mode": {
    "name": "ipython",
    "version": 3
   },
   "file_extension": ".py",
   "mimetype": "text/x-python",
   "name": "python",
   "nbconvert_exporter": "python",
   "pygments_lexer": "ipython3",
   "version": "3.12.1"
  }
 },
 "nbformat": 4,
 "nbformat_minor": 5
}
