{
 "cells": [
  {
   "cell_type": "code",
   "execution_count": null,
   "id": "79e03577-4566-4620-8d5a-a9ed6000cdef",
   "metadata": {},
   "outputs": [],
   "source": [
    "class Travel:\n",
    "    count_enemy_encounter = 0\n",
    "    count_item_encounter = 0\n",
    "    count_rare_item_encounter = 0\n",
    "    count_shop_encounter = 0\n",
    "    count_zen_encounter = 0\n",
    "    count_none_event = 0"
   ]
  },
  {
   "cell_type": "code",
   "execution_count": null,
   "id": "2331d6a8-3c3f-4e30-8286-a843165706d4",
   "metadata": {},
   "outputs": [],
   "source": [
    "print(\"Travel class loaded.\")"
   ]
  }
 ],
 "metadata": {
  "kernelspec": {
   "display_name": "Python 3 (ipykernel)",
   "language": "python",
   "name": "python3"
  },
  "language_info": {
   "codemirror_mode": {
    "name": "ipython",
    "version": 3
   },
   "file_extension": ".py",
   "mimetype": "text/x-python",
   "name": "python",
   "nbconvert_exporter": "python",
   "pygments_lexer": "ipython3",
   "version": "3.12.1"
  }
 },
 "nbformat": 4,
 "nbformat_minor": 5
}
