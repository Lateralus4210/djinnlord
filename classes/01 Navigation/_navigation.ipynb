{
 "cells": [
  {
   "cell_type": "code",
   "execution_count": null,
   "id": "7708e043-999d-467d-94ea-87a099ec1d40",
   "metadata": {},
   "outputs": [],
   "source": [
    "%run \"classes/01 Navigation/Map.ipynb\"\n",
    "\n",
    "%run \"classes/01 Navigation/Travel.ipynb\"\n",
    "\n",
    "%run \"classes/01 Navigation/TerrainTables.ipynb\"\n",
    "\n",
    "%run \"classes/01 Navigation/LandmarkTables.ipynb\"\n",
    "\n",
    "%run \"classes/01 Navigation/ThisLocation.ipynb\""
   ]
  }
 ],
 "metadata": {
  "kernelspec": {
   "display_name": "Python 3 (ipykernel)",
   "language": "python",
   "name": "python3"
  },
  "language_info": {
   "codemirror_mode": {
    "name": "ipython",
    "version": 3
   },
   "file_extension": ".py",
   "mimetype": "text/x-python",
   "name": "python",
   "nbconvert_exporter": "python",
   "pygments_lexer": "ipython3",
   "version": "3.12.1"
  }
 },
 "nbformat": 4,
 "nbformat_minor": 5
}
