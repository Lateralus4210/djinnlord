{
 "cells": [
  {
   "cell_type": "code",
   "execution_count": null,
   "id": "87883bae-1735-45f6-9b2b-763cd3f16807",
   "metadata": {},
   "outputs": [],
   "source": [
    "class LandmarkTables:\n",
    "    # read CharacterLocation, then LandmarkTable\n",
    "    pass\n",
    "\n",
    "\n",
    "# Fathomless Abyss, "
   ]
  },
  {
   "cell_type": "code",
   "execution_count": null,
   "id": "fe37297d-69fc-446c-a764-b00ee15f39fc",
   "metadata": {},
   "outputs": [],
   "source": [
    "print(\"LandmarkTables class loaded.\")"
   ]
  }
 ],
 "metadata": {
  "kernelspec": {
   "display_name": "Python 3 (ipykernel)",
   "language": "python",
   "name": "python3"
  },
  "language_info": {
   "codemirror_mode": {
    "name": "ipython",
    "version": 3
   },
   "file_extension": ".py",
   "mimetype": "text/x-python",
   "name": "python",
   "nbconvert_exporter": "python",
   "pygments_lexer": "ipython3",
   "version": "3.12.1"
  }
 },
 "nbformat": 4,
 "nbformat_minor": 5
}
