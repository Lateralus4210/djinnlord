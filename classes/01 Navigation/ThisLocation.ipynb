{
 "cells": [
  {
   "cell_type": "code",
   "execution_count": null,
   "id": "e70a3b25-1454-4b90-9be5-66986df3d58f",
   "metadata": {},
   "outputs": [],
   "source": [
    "class ThisLocation:\n",
    "    terrain_current = \"Airy Plains\"\n",
    "    landmark_current = \"Zero Spire\""
   ]
  },
  {
   "cell_type": "code",
   "execution_count": null,
   "id": "2bae5d62-6a9d-4739-ac4d-28a70fae6c9a",
   "metadata": {},
   "outputs": [],
   "source": [
    "print(\"ThisLocation class loaded.\")"
   ]
  }
 ],
 "metadata": {
  "kernelspec": {
   "display_name": "Python 3 (ipykernel)",
   "language": "python",
   "name": "python3"
  },
  "language_info": {
   "codemirror_mode": {
    "name": "ipython",
    "version": 3
   },
   "file_extension": ".py",
   "mimetype": "text/x-python",
   "name": "python",
   "nbconvert_exporter": "python",
   "pygments_lexer": "ipython3",
   "version": "3.12.1"
  }
 },
 "nbformat": 4,
 "nbformat_minor": 5
}
