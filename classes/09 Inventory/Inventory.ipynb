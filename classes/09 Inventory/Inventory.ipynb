{
 "cells": [
  {
   "cell_type": "code",
   "execution_count": null,
   "id": "ed1009a3-01b3-4f6c-871c-edaf9afecdc0",
   "metadata": {},
   "outputs": [],
   "source": [
    "class Inventory:\n",
    "    inv = {'Plant Material': 0,\n",
    "           'potion': 0, \n",
    "           'shield': 0}\n",
    "\n",
    "    def add_item(item, quantity=1):\n",
    "        if item in Inventory.inv:\n",
    "            Inventory.inv[item] += quantity\n",
    "        else:\n",
    "            Inventory.inv[item] = quantity"
   ]
  }
 ],
 "metadata": {
  "kernelspec": {
   "display_name": "Python 3 (ipykernel)",
   "language": "python",
   "name": "python3"
  },
  "language_info": {
   "codemirror_mode": {
    "name": "ipython",
    "version": 3
   },
   "file_extension": ".py",
   "mimetype": "text/x-python",
   "name": "python",
   "nbconvert_exporter": "python",
   "pygments_lexer": "ipython3",
   "version": "3.12.1"
  }
 },
 "nbformat": 4,
 "nbformat_minor": 5
}
