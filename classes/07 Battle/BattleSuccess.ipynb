{
 "cells": [
  {
   "cell_type": "code",
   "execution_count": null,
   "id": "d5f531fc-01c0-4d9f-b4d4-8683a2656d67",
   "metadata": {},
   "outputs": [],
   "source": [
    "class BattleSuccess:\n",
    "    def go():\n",
    "        CommandsFrame.entry_listbox.insert(0, \"You have defeated the \" + Enemy.name + \"!\")\n",
    "    \n",
    "        CharacterProfile.in_battle = False\n",
    "        CharacterProfile.number_enemies_defeated += 1\n",
    "\n",
    "        EnemyDropTables.check()"
   ]
  },
  {
   "cell_type": "code",
   "execution_count": null,
   "id": "2021a808-7989-4c52-8b89-ded81438039b",
   "metadata": {},
   "outputs": [],
   "source": [
    "print(\"BattleSuccess class loaded.\")"
   ]
  }
 ],
 "metadata": {
  "kernelspec": {
   "display_name": "Python 3 (ipykernel)",
   "language": "python",
   "name": "python3"
  },
  "language_info": {
   "codemirror_mode": {
    "name": "ipython",
    "version": 3
   },
   "file_extension": ".py",
   "mimetype": "text/x-python",
   "name": "python",
   "nbconvert_exporter": "python",
   "pygments_lexer": "ipython3",
   "version": "3.12.1"
  }
 },
 "nbformat": 4,
 "nbformat_minor": 5
}
