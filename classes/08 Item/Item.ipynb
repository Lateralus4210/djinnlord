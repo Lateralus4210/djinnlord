{
 "cells": [
  {
   "cell_type": "code",
   "execution_count": null,
   "id": "408c4e3e-2309-42d2-9bc0-ee2f508b0c74",
   "metadata": {},
   "outputs": [],
   "source": [
    "class Item:\n",
    "    def give(item, quantity=1):\n",
    "        Inventory.add_item(item)\n",
    "        InventoryFrame.add_item(item)\n",
    "        CommandsFrame.entry_listbox.insert(0, \"You got \" + item + \".\")\n",
    "        debug_listbox.insert(0, item + \" given.\")"
   ]
  }
 ],
 "metadata": {
  "kernelspec": {
   "display_name": "Python 3 (ipykernel)",
   "language": "python",
   "name": "python3"
  },
  "language_info": {
   "codemirror_mode": {
    "name": "ipython",
    "version": 3
   },
   "file_extension": ".py",
   "mimetype": "text/x-python",
   "name": "python",
   "nbconvert_exporter": "python",
   "pygments_lexer": "ipython3",
   "version": "3.12.1"
  }
 },
 "nbformat": 4,
 "nbformat_minor": 5
}
