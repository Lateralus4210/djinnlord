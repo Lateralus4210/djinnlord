{
 "cells": [
  {
   "cell_type": "code",
   "execution_count": null,
   "id": "510a61b2-3822-4a72-b586-ef54f3f17849",
   "metadata": {},
   "outputs": [],
   "source": [
    "class Interpret:\n",
    "    pause_amount = .1\n",
    "    \n",
    "    def handle_user_input(event=None):\n",
    "        \n",
    "        time.sleep(Interpret.pause_amount)\n",
    "        User.user_input = CommandsFrame.entry.get().upper()\n",
    "        CommandsFrame.entry.delete(0, tk.END)  # Clear the entry field\n",
    "        CommandsFrame.entry.focus()\n",
    "        InterfaceUpdate.add_entry_text()\n",
    "        Interpret.go()\n",
    "\n",
    "    def go(event=None):\n",
    "\n",
    "        if User.user_input in ValidInputs.move_inputs or ValidInputs.dash_inputs:\n",
    "            time.sleep(Interpret.pause_amount)\n",
    "            TravelInput.go()\n",
    "    \n",
    "        if User.user_input in ValidInputs.spell_inputs:\n",
    "            time.sleep(Interpret.pause_amount)\n",
    "            BattleInput.go()\n",
    "        \n",
    "        if User.user_input.startswith(\"MY NAME IS \"):\n",
    "            name = User.user_input[len(\"MY NAME IS \"):]\n",
    "            CharacterProfile.update_character_name(name)\n",
    "        \n",
    "        if User.user_input.startswith(\"EVENT \"):\n",
    "            time.sleep(Interpret.pause_amount)\n",
    "            number = int(User.user_input[len(\"EVENT \"):])\n",
    "            Event.determine_event_type(number)\n",
    "\n",
    "        if User.user_input.startswith(\"I AM LEVEL \"):\n",
    "            \n",
    "            number = int(User.user_input[len(\"I AM LEVEL \"):])\n",
    "            Character.character_level_current = number\n",
    "\n",
    "        if User.user_input.startswith(\"POSITION \"):\n",
    "            # Extracting coordinates from the input\n",
    "            try:\n",
    "                _, x_str, y_str = User.user_input.split()\n",
    "                x, y = int(x_str), int(y_str)\n",
    "            except ValueError:\n",
    "                debug_listbox.insert(0, \"Invalid input format. Expected format: 'Position X Y'\")\n",
    "                return\n",
    "            \n",
    "            # Validating coordinates\n",
    "            if -25 <= x <= 25 and -25 <= y <= 25:\n",
    "                CharacterLocation.position_current = [x, y]\n",
    "                CharacterLocation.refresh()\n",
    "            else:\n",
    "                debug_listbox.insert(0, \"Invalid coordinates. X and Y must be between -25 and 25.\")\n",
    "                CommandsFrame.entry_listbox.insert(0, \"You can't go any farther.\")\n",
    "\n",
    "        if User.user_input == \"MAP EXPLORED DICT\":\n",
    "            debug_listbox.insert(0, len(Map.map_explored_dict))\n"
   ]
  },
  {
   "cell_type": "code",
   "execution_count": null,
   "id": "e67fae26-5d24-4bb6-b84e-ba51b01e4a6a",
   "metadata": {},
   "outputs": [],
   "source": [
    "print(\"Interpret class loaded.\")"
   ]
  }
 ],
 "metadata": {
  "kernelspec": {
   "display_name": "Python 3 (ipykernel)",
   "language": "python",
   "name": "python3"
  },
  "language_info": {
   "codemirror_mode": {
    "name": "ipython",
    "version": 3
   },
   "file_extension": ".py",
   "mimetype": "text/x-python",
   "name": "python",
   "nbconvert_exporter": "python",
   "pygments_lexer": "ipython3",
   "version": "3.12.1"
  }
 },
 "nbformat": 4,
 "nbformat_minor": 5
}
