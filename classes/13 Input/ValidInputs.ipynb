{
 "cells": [
  {
   "cell_type": "code",
   "execution_count": null,
   "id": "9ca98c0a-4b21-4247-bef7-0b4266392d32",
   "metadata": {},
   "outputs": [],
   "source": [
    "class ValidInputs:\n",
    "    ###########   MOVEMENT   ##########\n",
    "\n",
    "    north_inputs = [\"N\", \"NORTH\", \"UP\"]\n",
    "    east_inputs = [\"E\", \"EAST\", \"RIGHT\"]\n",
    "    south_inputs = [\"S\", \"SOUTH\", \"DOWN\"]\n",
    "    west_inputs = [\"W\", \"WEST\", \"LEFT\"]\n",
    "    move_inputs = (north_inputs + east_inputs + south_inputs + west_inputs)\n",
    "\n",
    "    dash_north_inputs = [\"DASH \" + move for move in north_inputs]\n",
    "    dash_east_inputs = [\"DASH \" + move for move in east_inputs]\n",
    "    dash_south_inputs = [\"DASH \" + move for move in south_inputs]\n",
    "    dash_west_inputs = [\"DASH \" + move for move in west_inputs]\n",
    "    dash_inputs = [dash_north_inputs + dash_east_inputs + dash_south_inputs + dash_west_inputs]\n",
    "\n",
    "    ###########   COMBAT   ##########\n",
    "    \n",
    "    spell_inputs = [\"1\", \"2\", \"3\", \"4\", \"5\", \"6\", \"7\", \"8\", \"9\"]"
   ]
  },
  {
   "cell_type": "code",
   "execution_count": null,
   "id": "336a1cfc-6e09-4ce8-a0fa-b8cc1cae242a",
   "metadata": {},
   "outputs": [],
   "source": [
    "print(\"ValidInputs class loaded.\")"
   ]
  }
 ],
 "metadata": {
  "kernelspec": {
   "display_name": "Python 3 (ipykernel)",
   "language": "python",
   "name": "python3"
  },
  "language_info": {
   "codemirror_mode": {
    "name": "ipython",
    "version": 3
   },
   "file_extension": ".py",
   "mimetype": "text/x-python",
   "name": "python",
   "nbconvert_exporter": "python",
   "pygments_lexer": "ipython3",
   "version": "3.12.1"
  }
 },
 "nbformat": 4,
 "nbformat_minor": 5
}
