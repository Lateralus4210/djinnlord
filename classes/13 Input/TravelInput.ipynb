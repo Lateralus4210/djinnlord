{
 "cells": [
  {
   "cell_type": "code",
   "execution_count": null,
   "id": "411f09f2-1558-4dd1-9e4c-93212c18c52b",
   "metadata": {},
   "outputs": [],
   "source": [
    "class TravelInput:\n",
    "    def go(event=None):\n",
    "        if (User.user_input in ValidInputs.move_inputs and \n",
    "            CharacterProfile.in_battle == False):\n",
    "            \n",
    "            CharacterLocation.update_character_position_current(User.user_input)\n",
    "        \n",
    "        elif (User.user_input in ValidInputs.move_inputs and\n",
    "            CharacterProfile.in_battle == True):\n",
    "    \n",
    "            CommandsFrame.entry_listbox.insert(0, \"Defeat your opponent first.\")\n",
    "\n",
    "        if (User.user_input in ValidInputs.dash_inputs and \n",
    "            CharacterProfile.in_battle == False):\n",
    "            \n",
    "            Location.update_character_position_current(User.user_input)\n",
    "    \n",
    "        elif (User.user_input in ValidInputs.dash_inputs and\n",
    "            CharacterProfile.in_battle == True):\n",
    "\n",
    "            CommandsFrame.entry_listbox.insert(0, \"Defeat your opponent first.\")"
   ]
  },
  {
   "cell_type": "code",
   "execution_count": null,
   "id": "701ebf41-9c5e-4e64-ae00-3efa82803151",
   "metadata": {},
   "outputs": [],
   "source": [
    "print(\"TravelInput class loaded.\")"
   ]
  }
 ],
 "metadata": {
  "kernelspec": {
   "display_name": "Python 3 (ipykernel)",
   "language": "python",
   "name": "python3"
  },
  "language_info": {
   "codemirror_mode": {
    "name": "ipython",
    "version": 3
   },
   "file_extension": ".py",
   "mimetype": "text/x-python",
   "name": "python",
   "nbconvert_exporter": "python",
   "pygments_lexer": "ipython3",
   "version": "3.12.1"
  }
 },
 "nbformat": 4,
 "nbformat_minor": 5
}
