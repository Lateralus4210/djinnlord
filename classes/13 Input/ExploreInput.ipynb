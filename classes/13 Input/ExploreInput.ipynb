{
 "cells": [
  {
   "cell_type": "code",
   "execution_count": null,
   "id": "2000bc3a-c8d9-486b-894a-f7ee58cad9b4",
   "metadata": {},
   "outputs": [],
   "source": [
    "class ExploreInput:\n",
    "    pass"
   ]
  },
  {
   "cell_type": "code",
   "execution_count": null,
   "id": "4ac7c101-c278-4ac3-b4b9-d15c42200d79",
   "metadata": {},
   "outputs": [],
   "source": [
    "print(\"ExploreInput class loaded.\")"
   ]
  }
 ],
 "metadata": {
  "kernelspec": {
   "display_name": "Python 3 (ipykernel)",
   "language": "python",
   "name": "python3"
  },
  "language_info": {
   "codemirror_mode": {
    "name": "ipython",
    "version": 3
   },
   "file_extension": ".py",
   "mimetype": "text/x-python",
   "name": "python",
   "nbconvert_exporter": "python",
   "pygments_lexer": "ipython3",
   "version": "3.12.1"
  }
 },
 "nbformat": 4,
 "nbformat_minor": 5
}
