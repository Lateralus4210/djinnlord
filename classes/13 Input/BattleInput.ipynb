{
 "cells": [
  {
   "cell_type": "code",
   "execution_count": null,
   "id": "1ec3ab7f-43cf-4d49-a3fb-b948326727ac",
   "metadata": {},
   "outputs": [],
   "source": [
    "class BattleInput:\n",
    "    def go(event=None):\n",
    "        if User.user_input in ValidInputs.spell_inputs and CharacterProfile.in_battle == True:\n",
    "            BattleInput.determine_spell_by_number()\n",
    "    \n",
    "        if User.user_input in ValidInputs.spell_inputs and CharacterProfile.in_battle == False:\n",
    "            CommandsFrame.entry_listbox.insert(0, \"You can't use magic outside of combat.\")\n",
    "\n",
    "    def determine_spell_by_number():\n",
    "    \n",
    "        if (CharacterSkills.level_current == 1 and \n",
    "            User.user_input == \"1\" and \n",
    "            CharacterProfile.in_battle == True):\n",
    "\n",
    "            BattleSequence.character_attack_attempt(\"puff of wind\")\n",
    "            print(\"Puff of Wind used.\")\n",
    "    \n",
    "        #if Character.character_level == 1 and Player.user_innput == 2:"
   ]
  },
  {
   "cell_type": "code",
   "execution_count": null,
   "id": "2d55b77b-8535-4b54-80f1-48ba1df297ec",
   "metadata": {},
   "outputs": [],
   "source": [
    "print(\"BattleInput class loaded.\")"
   ]
  }
 ],
 "metadata": {
  "kernelspec": {
   "display_name": "Python 3 (ipykernel)",
   "language": "python",
   "name": "python3"
  },
  "language_info": {
   "codemirror_mode": {
    "name": "ipython",
    "version": 3
   },
   "file_extension": ".py",
   "mimetype": "text/x-python",
   "name": "python",
   "nbconvert_exporter": "python",
   "pygments_lexer": "ipython3",
   "version": "3.12.1"
  }
 },
 "nbformat": 4,
 "nbformat_minor": 5
}
