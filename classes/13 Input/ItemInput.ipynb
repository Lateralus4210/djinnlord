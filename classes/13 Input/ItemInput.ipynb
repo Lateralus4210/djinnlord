{
 "cells": [
  {
   "cell_type": "code",
   "execution_count": null,
   "id": "0c02b215-455e-4429-a4c1-8522bf4fcd0d",
   "metadata": {},
   "outputs": [],
   "source": [
    "class ItemInput:\n",
    "    pass"
   ]
  },
  {
   "cell_type": "code",
   "execution_count": null,
   "id": "17d0a547-e46d-4659-a2f2-f0388689455c",
   "metadata": {},
   "outputs": [],
   "source": [
    "print(\"ItemInput class loaded.\")"
   ]
  }
 ],
 "metadata": {
  "kernelspec": {
   "display_name": "Python 3 (ipykernel)",
   "language": "python",
   "name": "python3"
  },
  "language_info": {
   "codemirror_mode": {
    "name": "ipython",
    "version": 3
   },
   "file_extension": ".py",
   "mimetype": "text/x-python",
   "name": "python",
   "nbconvert_exporter": "python",
   "pygments_lexer": "ipython3",
   "version": "3.12.1"
  }
 },
 "nbformat": 4,
 "nbformat_minor": 5
}
