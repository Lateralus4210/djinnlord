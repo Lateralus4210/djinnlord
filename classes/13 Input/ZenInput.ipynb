{
 "cells": [
  {
   "cell_type": "code",
   "execution_count": null,
   "id": "638cf346-d5f5-4a38-9e6c-6dc063934415",
   "metadata": {},
   "outputs": [],
   "source": [
    "class ZenInput:\n",
    "    pass"
   ]
  },
  {
   "cell_type": "code",
   "execution_count": null,
   "id": "42afee84-3d87-4f97-89f8-03f66b36bfdd",
   "metadata": {},
   "outputs": [],
   "source": [
    "print(\"ZenInput class loaded.\")"
   ]
  }
 ],
 "metadata": {
  "kernelspec": {
   "display_name": "Python 3 (ipykernel)",
   "language": "python",
   "name": "python3"
  },
  "language_info": {
   "codemirror_mode": {
    "name": "ipython",
    "version": 3
   },
   "file_extension": ".py",
   "mimetype": "text/x-python",
   "name": "python",
   "nbconvert_exporter": "python",
   "pygments_lexer": "ipython3",
   "version": "3.12.1"
  }
 },
 "nbformat": 4,
 "nbformat_minor": 5
}
