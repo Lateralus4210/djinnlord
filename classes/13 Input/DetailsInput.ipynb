{
 "cells": [
  {
   "cell_type": "code",
   "execution_count": null,
   "id": "4e6af269-93cd-49fa-b29c-0f3881773ea6",
   "metadata": {},
   "outputs": [],
   "source": [
    "class DetailsInput:\n",
    "    pass"
   ]
  },
  {
   "cell_type": "code",
   "execution_count": null,
   "id": "76829057-ed9c-43ee-9d54-9d6a87190b68",
   "metadata": {},
   "outputs": [],
   "source": [
    "print(\"DetailsInput class loaded.\")"
   ]
  }
 ],
 "metadata": {
  "kernelspec": {
   "display_name": "Python 3 (ipykernel)",
   "language": "python",
   "name": "python3"
  },
  "language_info": {
   "codemirror_mode": {
    "name": "ipython",
    "version": 3
   },
   "file_extension": ".py",
   "mimetype": "text/x-python",
   "name": "python",
   "nbconvert_exporter": "python",
   "pygments_lexer": "ipython3",
   "version": "3.12.1"
  }
 },
 "nbformat": 4,
 "nbformat_minor": 5
}
