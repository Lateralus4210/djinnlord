{
 "cells": [
  {
   "cell_type": "code",
   "execution_count": 1,
   "id": "23d0d715-6708-454e-ac3f-24e11c828026",
   "metadata": {},
   "outputs": [
    {
     "ename": "SyntaxError",
     "evalue": "invalid syntax (2708637566.py, line 8)",
     "output_type": "error",
     "traceback": [
      "\u001b[1;36m  Cell \u001b[1;32mIn[1], line 8\u001b[1;36m\u001b[0m\n\u001b[1;33m    CharacterFrame.health_label.config(text=str(CharacterSkills.health_current) + )\u001b[0m\n\u001b[1;37m                                                                                  ^\u001b[0m\n\u001b[1;31mSyntaxError\u001b[0m\u001b[1;31m:\u001b[0m invalid syntax\n"
     ]
    }
   ],
   "source": [
    "class EnemyAttack:\n",
    "    def go():\n",
    "        random_attack_number = random.randint(1, 100)\n",
    "    \n",
    "        if random_attack_number <= 70:\n",
    "            CommandsFrame.entry_listbox.insert(0, \"The enemy used \" + Enemy.attack_one + \" for \" + str(Enemy.attack_one_damage) + \" points of damage.\")\n",
    "            CharacterSkills.health_current -= Enemy.attack_one_damage\n",
    "            \n",
    "\n",
    "        if random_attack_number > 70:\n",
    "            CommandsFrame.entry_listbox.insert(0, \"The enemy used \" + Enemy.attack_two + \" for \" + str(Enemy.attack_two_damage) + \" points of damage.\")\n",
    "            CharacterSkills.health_current -= Enemy.attack_two_damage\n",
    "\n",
    "        CharacterFrame.health_label.config(text=\"Health: \" + str(CharacterSkills.health_current) + \" / \" + str(CharacterSkills.health_max))\n",
    "        \n",
    "\n"
   ]
  },
  {
   "cell_type": "code",
   "execution_count": null,
   "id": "ecc54162-f476-41ba-967c-6d62f11ad9dc",
   "metadata": {},
   "outputs": [],
   "source": [
    "print(\"EnemyAttack class loaded.\")"
   ]
  }
 ],
 "metadata": {
  "kernelspec": {
   "display_name": "Python 3 (ipykernel)",
   "language": "python",
   "name": "python3"
  },
  "language_info": {
   "codemirror_mode": {
    "name": "ipython",
    "version": 3
   },
   "file_extension": ".py",
   "mimetype": "text/x-python",
   "name": "python",
   "nbconvert_exporter": "python",
   "pygments_lexer": "ipython3",
   "version": "3.12.1"
  }
 },
 "nbformat": 4,
 "nbformat_minor": 5
}
