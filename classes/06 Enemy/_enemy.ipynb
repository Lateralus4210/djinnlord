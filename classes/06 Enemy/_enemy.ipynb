{
 "cells": [
  {
   "cell_type": "code",
   "execution_count": null,
   "id": "bde7e70f-7f10-4ff0-a9f8-1c88cc511c59",
   "metadata": {},
   "outputs": [],
   "source": [
    "%run \"classes/06 Enemy/Enemy.ipynb\"\n",
    "%run \"classes/06 Enemy/EnemySkills.ipynb\"\n",
    "%run \"classes/06 Enemy/EnemyAttributes.ipynb\"\n",
    "%run \"classes/06 Enemy/EnemyAttack.ipynb\"\n",
    "%run \"classes/06 Enemy/EnemyDropTables.ipynb\"\n",
    "%run \"classes/06 Enemy/EnemyXPTables.ipynb\""
   ]
  }
 ],
 "metadata": {
  "kernelspec": {
   "display_name": "Python 3 (ipykernel)",
   "language": "python",
   "name": "python3"
  },
  "language_info": {
   "codemirror_mode": {
    "name": "ipython",
    "version": 3
   },
   "file_extension": ".py",
   "mimetype": "text/x-python",
   "name": "python",
   "nbconvert_exporter": "python",
   "pygments_lexer": "ipython3",
   "version": "3.12.1"
  }
 },
 "nbformat": 4,
 "nbformat_minor": 5
}
