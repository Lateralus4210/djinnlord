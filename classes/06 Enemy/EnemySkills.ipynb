{
 "cells": [
  {
   "cell_type": "code",
   "execution_count": null,
   "id": "325e0cf1-37d4-438e-98f0-efec7459c6c1",
   "metadata": {},
   "outputs": [],
   "source": [
    "class EnemySkills:\n",
    "    pass"
   ]
  },
  {
   "cell_type": "code",
   "execution_count": null,
   "id": "7a7dda4d-a1bb-459b-91aa-73cdd3413884",
   "metadata": {},
   "outputs": [],
   "source": [
    "print(\"EnemySkills class loaded.\")"
   ]
  }
 ],
 "metadata": {
  "kernelspec": {
   "display_name": "Python 3 (ipykernel)",
   "language": "python",
   "name": "python3"
  },
  "language_info": {
   "codemirror_mode": {
    "name": "ipython",
    "version": 3
   },
   "file_extension": ".py",
   "mimetype": "text/x-python",
   "name": "python",
   "nbconvert_exporter": "python",
   "pygments_lexer": "ipython3",
   "version": "3.12.1"
  }
 },
 "nbformat": 4,
 "nbformat_minor": 5
}
