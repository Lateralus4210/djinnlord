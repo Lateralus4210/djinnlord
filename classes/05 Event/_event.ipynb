{
 "cells": [
  {
   "cell_type": "code",
   "execution_count": null,
   "id": "dcd8354c-b528-469e-8f39-867b00ff1dd2",
   "metadata": {},
   "outputs": [],
   "source": [
    "%run \"classes/05 Event/EventTables.ipynb\"\n",
    "%run \"classes/05 Event/EventDetermine.ipynb\"\n",
    "%run \"classes/05 Event/EventEnemy.ipynb\"\n",
    "%run \"classes/05 Event/EventItem.ipynb\"\n",
    "%run \"classes/05 Event/EventShop.ipynb\"\n",
    "%run \"classes/05 Event/EventZen.ipynb\"\n",
    "%run \"classes/05 Event/EventNone.ipynb\""
   ]
  }
 ],
 "metadata": {
  "kernelspec": {
   "display_name": "Python 3 (ipykernel)",
   "language": "python",
   "name": "python3"
  },
  "language_info": {
   "codemirror_mode": {
    "name": "ipython",
    "version": 3
   },
   "file_extension": ".py",
   "mimetype": "text/x-python",
   "name": "python",
   "nbconvert_exporter": "python",
   "pygments_lexer": "ipython3",
   "version": "3.12.1"
  }
 },
 "nbformat": 4,
 "nbformat_minor": 5
}
