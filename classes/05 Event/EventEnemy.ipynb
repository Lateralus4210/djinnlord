{
 "cells": [
  {
   "cell_type": "code",
   "execution_count": null,
   "id": "da9d8d45-6a9d-451e-bd16-4f1fdf365eb0",
   "metadata": {},
   "outputs": [],
   "source": [
    "class EventEnemy:\n",
    "\n",
    "    def determine(event_number):\n",
    "        selected_enemy_slot = None\n",
    "        \n",
    "        enemy_event_ranges = {\n",
    "            # enemy_event_range: (min, max)\n",
    "            1: (1, 1000),\n",
    "            2: (1001, 2000),\n",
    "            3: (2001, 3000),\n",
    "            4: (3001, 4000),\n",
    "            5: (4001, 5000),\n",
    "            6: (5001, 6000),\n",
    "            7: (6001, 7000),\n",
    "            8: (7001, 8000) \n",
    "        }\n",
    "    \n",
    "        for enemy_event_range, (min_range, max_range) in enemy_event_ranges.items():\n",
    "            if min_range <= event_number <= max_range:\n",
    "                selected_enemy_slot = enemy_event_range\n",
    "                break\n",
    "    \n",
    "        if 1 <= CharacterSkills.level_current <= 10:\n",
    "            if selected_enemy_slot == 1:\n",
    "                enemy_one = Enemy.create_enemy(\"butterfly\")\n",
    "                \n",
    "            elif selected_enemy_slot == 2:\n",
    "                enemy_one = Enemy.create_enemy(\"chicken\")\n",
    "    \n",
    "            elif selected_enemy_slot == 3:\n",
    "                enemy_one = Enemy.create_enemy(\"giant rat\")\n",
    "    \n",
    "            elif selected_enemy_slot == 4:\n",
    "                enemy_one = Enemy.create_enemy(\"garden snake\")\n",
    "    \n",
    "            elif selected_enemy_slot == 5:\n",
    "                enemy_one = Enemy.create_enemy(\"harpy chick\")\n",
    "    \n",
    "            elif selected_enemy_slot == 6:\n",
    "                enemy_one = Enemy.create_enemy(\"bee swarm\")\n",
    "    \n",
    "            elif selected_enemy_slot == 7:\n",
    "                enemy_one = Enemy.create_enemy(\"boar\")\n",
    "    \n",
    "            elif selected_enemy_slot == 8:  \n",
    "                enemy_one = Enemy.create_enemy(\"wolf\")\n",
    "    \n",
    "        if selected_enemy_slot is not None:\n",
    "            print(f\"Character Level: {CharacterSkills.level_current}\")\n",
    "            debug_listbox.insert(0, f\"Character Level: {CharacterSkills.level_current}\")\n",
    "            \n",
    "            print(f\"Event Number: {event_number}\")\n",
    "            debug_listbox.insert(0, f\"Event Number: {event_number}\")\n",
    "            \n",
    "            print(f\"Selected Enemy Slot {selected_enemy_slot}\")\n",
    "            debug_listbox.insert(0, f\"Selected Enemy Slot {selected_enemy_slot}\")\n",
    "        else:\n",
    "            print(\"Invalid event number or player level.\")\n",
    "    \n",
    "    \n",
    "    #mimic, zombie, hobgoblin captain, demonic imp, sea widow"
   ]
  },
  {
   "cell_type": "code",
   "execution_count": null,
   "id": "8b8b3645-7c3a-410f-8cb9-66c929fb7914",
   "metadata": {},
   "outputs": [],
   "source": [
    "print(\"EventEnemy class loaded.\")"
   ]
  }
 ],
 "metadata": {
  "kernelspec": {
   "display_name": "Python 3 (ipykernel)",
   "language": "python",
   "name": "python3"
  },
  "language_info": {
   "codemirror_mode": {
    "name": "ipython",
    "version": 3
   },
   "file_extension": ".py",
   "mimetype": "text/x-python",
   "name": "python",
   "nbconvert_exporter": "python",
   "pygments_lexer": "ipython3",
   "version": "3.12.1"
  }
 },
 "nbformat": 4,
 "nbformat_minor": 5
}
