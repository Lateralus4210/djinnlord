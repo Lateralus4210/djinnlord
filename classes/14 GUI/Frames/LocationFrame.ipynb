{
 "cells": [
  {
   "cell_type": "code",
   "execution_count": null,
   "id": "af46a9ae-b4ea-4aef-a348-cc2ac4442290",
   "metadata": {},
   "outputs": [],
   "source": [
    "class LocationFrame:\n",
    "    screen_height = root.winfo_screenheight()\n",
    "    screen_width = root.winfo_screenwidth()\n",
    "    one_third_screen_width = screen_width // 3\n",
    "    one_third_screen_height = screen_height // 3\n",
    "    location_frame         = tk.Frame(root, borderwidth=0, relief=\"flat\", padx=0, pady=0, bg=Palettes.panel_two_color) \n",
    "\n",
    "    location_frame.place (x=0,\n",
    "                          y = one_third_screen_height,\n",
    "                          width = one_third_screen_width - InterfaceStyleConfig.margin_pixel_amount,\n",
    "                          height = one_third_screen_height - InterfaceStyleConfig.margin_pixel_amount)\n",
    "\n",
    "    location_label = tk.Label(location_frame, text=\"Location\")\n",
    "    location_label.pack()\n",
    "\n",
    "    InterfaceStyleConfig.title_labels.append(location_label)\n",
    "    InterfaceStyleConfig.panel_two_labels.append(location_label)\n",
    "\n",
    "\n",
    "        ###############################################################\n",
    "\n",
    "    landmark_current_label = tk.Label(\n",
    "        location_frame,\n",
    "        text=ThisLocation.landmark_current,\n",
    "        font=Fonts.main_title_font\n",
    "    )\n",
    "    InterfaceStyleConfig.panel_two_labels.append(landmark_current_label)\n",
    "    landmark_current_label.pack()\n",
    "    \n",
    "    position_current_label = tk.Label(\n",
    "        location_frame,\n",
    "        text=\"(+0, +0)\",\n",
    "        font=Fonts.sub_title_font,\n",
    "        padx=10,\n",
    "        pady=10\n",
    "    )\n",
    "    InterfaceStyleConfig.panel_two_labels.append(position_current_label)\n",
    "    position_current_label.pack()\n",
    "    \n",
    "    terrain_current_label = tk.Label(\n",
    "        location_frame,\n",
    "        text=\"Terrain: \" + ThisLocation.terrain_current,\n",
    "        font=Fonts.sub_title_font\n",
    "    )\n",
    "    InterfaceStyleConfig.panel_two_labels.append(terrain_current_label)\n",
    "    terrain_current_label.pack()"
   ]
  },
  {
   "cell_type": "code",
   "execution_count": null,
   "id": "7a16227c-ab93-4e19-809f-ae07364de5aa",
   "metadata": {},
   "outputs": [],
   "source": [
    "print(\"LocationFrame class loaded.\")"
   ]
  }
 ],
 "metadata": {
  "kernelspec": {
   "display_name": "Python 3 (ipykernel)",
   "language": "python",
   "name": "python3"
  },
  "language_info": {
   "codemirror_mode": {
    "name": "ipython",
    "version": 3
   },
   "file_extension": ".py",
   "mimetype": "text/x-python",
   "name": "python",
   "nbconvert_exporter": "python",
   "pygments_lexer": "ipython3",
   "version": "3.12.1"
  }
 },
 "nbformat": 4,
 "nbformat_minor": 5
}
