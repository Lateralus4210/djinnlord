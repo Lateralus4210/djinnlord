{
 "cells": [
  {
   "cell_type": "code",
   "execution_count": null,
   "id": "e9c41280-8f2a-4964-b080-2253264c079d",
   "metadata": {},
   "outputs": [],
   "source": [
    "class CharacterFrame:\n",
    "    screen_height = root.winfo_screenheight()\n",
    "    screen_width = root.winfo_screenwidth()\n",
    "    one_third_screen_width = screen_width // 3\n",
    "    one_third_screen_height = screen_height // 3\n",
    "\n",
    "    character_frame = tk.Frame(root, borderwidth=0, relief=\"flat\", padx=0, pady=0, bg=Palettes.panel_one_color) #Matte Black\n",
    "\n",
    "    character_frame.place (x= 2 * one_third_screen_width,\n",
    "                                  y=0,\n",
    "                                  width = one_third_screen_width - InterfaceStyleConfig.margin_pixel_amount,\n",
    "                                  height = one_third_screen_height - InterfaceStyleConfig.margin_pixel_amount)\n",
    "    \n",
    "    character_label = tk.Label(character_frame, text=\"Character\")\n",
    "    character_label.pack()\n",
    "\n",
    "    InterfaceStyleConfig.title_labels.append(character_label)\n",
    "    InterfaceStyleConfig.panel_four_labels.append(character_label)\n",
    "\n",
    "    ################################################################\n",
    "    \n",
    "    name_label = tk.Label(character_frame, \n",
    "                      text=str(CharacterProfile.name) + \", Level \" + str(CharacterSkills.level_current), font=Fonts.main_title_font)\n",
    "    InterfaceStyleConfig.panel_four_labels.append(name_label)\n",
    "    name_label.pack()\n",
    "    \n",
    "    health_label = tk.Label(character_frame, \n",
    "                                   text=\"Health: \" + str(CharacterSkills.health_current) + \"/\" + str(CharacterSkills.health_max))\n",
    "    InterfaceStyleConfig.panel_four_labels.append(health_label)\n",
    "    health_label.pack()\n",
    "    \n",
    "    energy_label = tk.Label(character_frame, \n",
    "                                   text= \"Energy: \" + str(CharacterSkills.energy_current) + \"/\" + str(CharacterSkills.energy_max))\n",
    "    InterfaceStyleConfig.panel_four_labels.append(energy_label)\n",
    "    energy_label.pack()\n",
    "    \n",
    "    chi_label = tk.Label(character_frame, \n",
    "                                text=\"Chi: \" + str(CharacterSkills.chi_current) + \"/\" + str(CharacterSkills.chi_max))\n",
    "    InterfaceStyleConfig.panel_four_labels.append(chi_label)\n",
    "    chi_label.pack()\n",
    "    \n",
    "    print(\"Character attributes applied. Labels packed.\")\n",
    "\n",
    "    ################################################################"
   ]
  },
  {
   "cell_type": "code",
   "execution_count": null,
   "id": "374cd35b-1881-428d-b0dc-cb7c3b6afb94",
   "metadata": {},
   "outputs": [],
   "source": [
    "print(\"CharacterFrame class loaded.\")"
   ]
  }
 ],
 "metadata": {
  "kernelspec": {
   "display_name": "Python 3 (ipykernel)",
   "language": "python",
   "name": "python3"
  },
  "language_info": {
   "codemirror_mode": {
    "name": "ipython",
    "version": 3
   },
   "file_extension": ".py",
   "mimetype": "text/x-python",
   "name": "python",
   "nbconvert_exporter": "python",
   "pygments_lexer": "ipython3",
   "version": "3.12.1"
  }
 },
 "nbformat": 4,
 "nbformat_minor": 5
}
