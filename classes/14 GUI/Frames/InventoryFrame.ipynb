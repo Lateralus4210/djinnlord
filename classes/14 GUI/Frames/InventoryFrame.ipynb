{
 "cells": [
  {
   "cell_type": "code",
   "execution_count": null,
   "id": "4baffbba-b206-4f15-9167-35e8f3206e99",
   "metadata": {},
   "outputs": [],
   "source": [
    "class InventoryFrame:\n",
    "    screen_height = root.winfo_screenheight()\n",
    "    screen_width = root.winfo_screenwidth()\n",
    "    one_third_screen_width = screen_width // 3\n",
    "    one_third_screen_height = screen_height // 3\n",
    "    inventory_frame = tk.Frame(root, borderwidth=0, relief=\"flat\", padx=0, pady=0, bg=Palettes.panel_two_color)\n",
    "\n",
    "    '''\n",
    "    inventory_frame.place (x=one_third_screen_width,\n",
    "              y=2*one_third_screen_height,\n",
    "              width = one_third_screen_width - InterfaceStyleConfig.margin_pixel_amount,\n",
    "              height = one_third_screen_height - InterfaceStyleConfig.margin_pixel_amount)\n",
    "    '''\n",
    "    \n",
    "    \n",
    "    inventory_frame.place (x=2*one_third_screen_width,\n",
    "                       y=2*one_third_screen_height,\n",
    "                       width = one_third_screen_width - InterfaceStyleConfig.margin_pixel_amount,\n",
    "                       height = one_third_screen_height - InterfaceStyleConfig.margin_pixel_amount)\n",
    "\n",
    "\n",
    "    inventory_label = tk.Label(inventory_frame, text=\"Inventory\")\n",
    "    inventory_label.pack()\n",
    "\n",
    "    InterfaceStyleConfig.title_labels.append(inventory_label)\n",
    "    InterfaceStyleConfig.panel_two_labels.append(inventory_label)\n",
    "\n",
    "    item_labels = []\n",
    "\n",
    "    item1_label = tk.Label(inventory_frame, bg=\"yellow\")\n",
    "    item_labels.append(item1_label)\n",
    "    item1_label.pack()\n",
    "\n",
    "    InterfaceStyleConfig.panel_two_labels.extend(item_labels)\n",
    "\n",
    "\n",
    "    def add_item(item):\n",
    "        InventoryFrame.item1_label.config(text=\"Plant Material   \" + str(Inventory.inv['Plant Material']))\n",
    "\n"
   ]
  },
  {
   "cell_type": "code",
   "execution_count": null,
   "id": "bc22978b-df4d-46d5-a48a-b5a08dce1ce4",
   "metadata": {},
   "outputs": [],
   "source": [
    "print(\"InventoryFrame class loaded.\")"
   ]
  }
 ],
 "metadata": {
  "kernelspec": {
   "display_name": "Python 3 (ipykernel)",
   "language": "python",
   "name": "python3"
  },
  "language_info": {
   "codemirror_mode": {
    "name": "ipython",
    "version": 3
   },
   "file_extension": ".py",
   "mimetype": "text/x-python",
   "name": "python",
   "nbconvert_exporter": "python",
   "pygments_lexer": "ipython3",
   "version": "3.12.1"
  }
 },
 "nbformat": 4,
 "nbformat_minor": 5
}
