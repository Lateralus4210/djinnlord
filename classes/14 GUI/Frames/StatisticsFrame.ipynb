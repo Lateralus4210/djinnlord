{
 "cells": [
  {
   "cell_type": "code",
   "execution_count": null,
   "id": "017bbb72-3a81-4532-a9bc-76fe8a0dde66",
   "metadata": {},
   "outputs": [],
   "source": [
    "class StatisticsFrame:\n",
    "    screen_height = root.winfo_screenheight()\n",
    "    screen_width = root.winfo_screenwidth()\n",
    "    one_third_screen_width = screen_width // 3\n",
    "    one_third_screen_height = screen_height // 3\n",
    "    statistics_frame       = tk.Frame(root, borderwidth=0, relief=\"flat\", padx=0, pady=0, bg=Palettes.panel_two_color)\n",
    "\n",
    "    '''\n",
    "    statistics_frame.place (x= one_third_screen_width,\n",
    "              y= one_third_screen_height,\n",
    "              width = one_third_screen_width - InterfaceStyleConfig.margin_pixel_amount,\n",
    "              height = one_third_screen_height - InterfaceStyleConfig.margin_pixel_amount)\n",
    "              '''\n",
    "\n",
    "    statistics_label = tk.Label(statistics_frame, text=\"Statistics\")\n",
    "    statistics_label.pack()\n",
    "\n",
    "    InterfaceStyleConfig.title_labels.append(statistics_label)\n",
    "    InterfaceStyleConfig.panel_two_labels.append(statistics_label)\n",
    "\n",
    "    #################################################################\n",
    "    \n",
    "    distance_traveled_label = tk.Label(statistics_frame, text=\"Distance traveled: \" + str(CharacterLocation.distance_traveled))\n",
    "    InterfaceStyleConfig.panel_two_labels.append(distance_traveled_label)\n",
    "    distance_traveled_label.pack()\n",
    "    \n",
    "    number_enemies_defeated_label = tk.Label(statistics_frame, text=\"Enemies defeated: \" + str(CharacterProfile.number_enemies_defeated))\n",
    "    InterfaceStyleConfig.panel_two_labels.append(number_enemies_defeated_label)\n",
    "    number_enemies_defeated_label.pack()\n",
    "    \n",
    "    map_explored_label = tk.Label(statistics_frame, text=\"Map: \" + str(int(CharacterLocation.map_explored)) + \"%\")\n",
    "    InterfaceStyleConfig.panel_two_labels.append(map_explored_label)\n",
    "    map_explored_label.pack()\n",
    "    \n"
   ]
  },
  {
   "cell_type": "code",
   "execution_count": null,
   "id": "ec7aec00-4ce6-4ccb-9108-6b941b9db2fd",
   "metadata": {},
   "outputs": [],
   "source": [
    "print(\"StatisticsFrame class loaded.\")"
   ]
  }
 ],
 "metadata": {
  "kernelspec": {
   "display_name": "Python 3 (ipykernel)",
   "language": "python",
   "name": "python3"
  },
  "language_info": {
   "codemirror_mode": {
    "name": "ipython",
    "version": 3
   },
   "file_extension": ".py",
   "mimetype": "text/x-python",
   "name": "python",
   "nbconvert_exporter": "python",
   "pygments_lexer": "ipython3",
   "version": "3.12.1"
  }
 },
 "nbformat": 4,
 "nbformat_minor": 5
}
