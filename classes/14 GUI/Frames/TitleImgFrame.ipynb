{
 "cells": [
  {
   "cell_type": "code",
   "execution_count": null,
   "id": "55183fa7-d731-4e4f-86a3-fb7c7366eb8f",
   "metadata": {},
   "outputs": [],
   "source": [
    "class TitleImgFrame:\n",
    "    screen_height = root.winfo_screenheight()\n",
    "    screen_width = root.winfo_screenwidth()\n",
    "    one_third_screen_width = screen_width // 3\n",
    "    one_third_screen_height = screen_height // 3\n",
    "\n",
    "    title_img_frame = tk.Frame(root, borderwidth=0, relief=\"flat\", padx=0, pady=0, bg=Palettes.panel_one_color) # Licorice\n",
    "\n",
    "    '''\n",
    "    title_img_frame.place (x= one_third_screen_width, \n",
    "                           y=0,\n",
    "                           width = one_third_screen_width - InterfaceStyleConfig.margin_pixel_amount,\n",
    "                           height = one_third_screen_height - InterfaceStyleConfig.margin_pixel_amount)\n",
    "    '''\n",
    "    \n",
    "    title_img_frame.place (x=0, y=0,\n",
    "                           width = 2*one_third_screen_width -InterfaceStyleConfig.margin_pixel_amount,\n",
    "                           height = one_third_screen_height - InterfaceStyleConfig.margin_pixel_amount)\n",
    "\n",
    "    title_label = tk.Label(title_img_frame, \n",
    "                           text=\"Djinnlord\", \n",
    "                           font = Fonts.grand_title_font, \n",
    "                           bg=Palettes.panel_one_color, \n",
    "                           fg=Palettes.panel_one_text_color)\n",
    "    \n",
    "    # title_label.pack(side=\"left\", fill=\"both\", expand=True, pady=10)\n",
    "    title_label.pack(side=\"left\", pady=10, padx=120)\n"
   ]
  },
  {
   "cell_type": "code",
   "execution_count": null,
   "id": "022b60f2-26d6-42b5-ac8e-99c00cea52f8",
   "metadata": {},
   "outputs": [],
   "source": [
    "print(\"TitleImgFrame class loaded.\")"
   ]
  }
 ],
 "metadata": {
  "kernelspec": {
   "display_name": "Python 3 (ipykernel)",
   "language": "python",
   "name": "python3"
  },
  "language_info": {
   "codemirror_mode": {
    "name": "ipython",
    "version": 3
   },
   "file_extension": ".py",
   "mimetype": "text/x-python",
   "name": "python",
   "nbconvert_exporter": "python",
   "pygments_lexer": "ipython3",
   "version": "3.12.1"
  }
 },
 "nbformat": 4,
 "nbformat_minor": 5
}
