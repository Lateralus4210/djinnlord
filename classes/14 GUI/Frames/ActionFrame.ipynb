{
 "cells": [
  {
   "cell_type": "code",
   "execution_count": null,
   "id": "6dd2eb6c-2ef8-4e63-80c2-5628759d4e7b",
   "metadata": {},
   "outputs": [],
   "source": [
    "class ActionFrame:\n",
    "    screen_height = root.winfo_screenheight()\n",
    "    screen_width = root.winfo_screenwidth()\n",
    "    one_third_screen_width = screen_width // 3\n",
    "    one_third_screen_height = screen_height // 3\n",
    "    \n",
    "    action_frame           = tk.Frame(root, borderwidth=0, relief=\"flat\", padx=0, pady=0, bg=Palettes.panel_three_color)\n",
    "\n",
    "    action_frame.place (x=2* one_third_screen_width,\n",
    "              y=one_third_screen_height,\n",
    "              width = one_third_screen_width - InterfaceStyleConfig.margin_pixel_amount,\n",
    "              height = one_third_screen_height - InterfaceStyleConfig.margin_pixel_amount)\n",
    "\n",
    "    action_label = tk.Label(action_frame, text=\"Action\")\n",
    "    action_label.pack()\n",
    "\n",
    "    InterfaceStyleConfig.title_labels.append(action_label)\n",
    "    InterfaceStyleConfig.panel_three_labels.append(action_label)\n",
    "\n",
    "    ###############################################################\n",
    "    \n",
    "    action_description_label = tk.Label(\n",
    "        action_frame,\n",
    "        text=\"\",\n",
    "        font=Fonts.main_title_font,\n",
    "        padx=30,\n",
    "        pady=30\n",
    "    )\n",
    "    InterfaceStyleConfig.panel_three_labels.append(action_description_label)\n",
    "    action_description_label.pack()"
   ]
  },
  {
   "cell_type": "code",
   "execution_count": null,
   "id": "d09eb144-bb29-40db-8211-a97dfb51f503",
   "metadata": {},
   "outputs": [],
   "source": [
    "print(\"ActionFrame class loaded.\")"
   ]
  }
 ],
 "metadata": {
  "kernelspec": {
   "display_name": "Python 3 (ipykernel)",
   "language": "python",
   "name": "python3"
  },
  "language_info": {
   "codemirror_mode": {
    "name": "ipython",
    "version": 3
   },
   "file_extension": ".py",
   "mimetype": "text/x-python",
   "name": "python",
   "nbconvert_exporter": "python",
   "pygments_lexer": "ipython3",
   "version": "3.12.1"
  }
 },
 "nbformat": 4,
 "nbformat_minor": 5
}
