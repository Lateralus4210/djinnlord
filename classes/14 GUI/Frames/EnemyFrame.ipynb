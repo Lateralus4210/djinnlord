{
 "cells": [
  {
   "cell_type": "code",
   "execution_count": null,
   "id": "a1abe0ff-5d9b-498e-80d7-74fdcf5274e2",
   "metadata": {},
   "outputs": [],
   "source": [
    "class EnemyFrame:\n",
    "    screen_height = root.winfo_screenheight()\n",
    "    screen_width = root.winfo_screenwidth()\n",
    "    one_third_screen_width = screen_width // 3\n",
    "    one_third_screen_height = screen_height // 3\n",
    "    enemy_frame = tk.Frame(root, borderwidth=0, relief=\"flat\", padx=0, pady=0, bg=Palettes.panel_three_color)\n",
    "\n",
    "    enemy_frame.place (x=2* one_third_screen_width,\n",
    "              y=one_third_screen_height,\n",
    "              width = one_third_screen_width - InterfaceStyleConfig.margin_pixel_amount,\n",
    "              height = one_third_screen_height - InterfaceStyleConfig.margin_pixel_amount)\n",
    "\n",
    "    enemy_label = tk.Label(enemy_frame, text=\"Enemy\")\n",
    "    enemy_label.pack()\n",
    "\n",
    "    InterfaceStyleConfig.title_labels.append(enemy_label)\n",
    "    InterfaceStyleConfig.panel_four_labels.append(enemy_label)\n",
    "\n",
    "    ##############################################################\n",
    "\n",
    "    enemy_name_label = tk.Label(enemy_frame, text=\"\")\n",
    "    InterfaceStyleConfig.panel_four_labels.append(enemy_name_label)\n",
    "    enemy_name_label.pack()\n",
    "\n",
    "    enemy_health_current_label = tk.Label(enemy_frame, text=\"\")\n",
    "    InterfaceStyleConfig.panel_four_labels.append(enemy_health_current_label)\n",
    "    enemy_health_current_label.pack()\n",
    "    \n",
    "    progressbar = ttk.Progressbar(enemy_frame, orient=\"horizontal\", length=300, mode=\"determinate\")\n",
    "    progressbar.pack(pady=20)\n",
    "    \n",
    "    def update_enemy_health_progressbar():\n",
    "        if CharacterProfile.in_battle == True:\n",
    "            current_health = enemy_health_current.get()\n",
    "            progressbar[\"maximum\"] = enemy_health_max\n",
    "            progressbar[\"value\"] = current_health\n",
    "            root.update_idletasks()"
   ]
  },
  {
   "cell_type": "code",
   "execution_count": null,
   "id": "6cf36d2e-a57d-4472-8f37-db7a135811cf",
   "metadata": {},
   "outputs": [],
   "source": [
    "print(\"EnemyFrame class loaded.\")"
   ]
  }
 ],
 "metadata": {
  "kernelspec": {
   "display_name": "Python 3 (ipykernel)",
   "language": "python",
   "name": "python3"
  },
  "language_info": {
   "codemirror_mode": {
    "name": "ipython",
    "version": 3
   },
   "file_extension": ".py",
   "mimetype": "text/x-python",
   "name": "python",
   "nbconvert_exporter": "python",
   "pygments_lexer": "ipython3",
   "version": "3.12.1"
  }
 },
 "nbformat": 4,
 "nbformat_minor": 5
}
