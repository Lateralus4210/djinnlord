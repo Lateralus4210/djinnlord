{
 "cells": [
  {
   "cell_type": "code",
   "execution_count": null,
   "id": "1e00158e-28ad-4025-adc1-b1cfd8b766cc",
   "metadata": {},
   "outputs": [],
   "source": [
    "class InterfaceStyleConfig:\n",
    "    title_labels = []\n",
    "\n",
    "    panel_one_labels = []\n",
    "    panel_two_labels = []\n",
    "    panel_three_labels = []\n",
    "    panel_four_labels = []\n",
    "    \n",
    "    margin_pixel_amount = 3\n",
    "\n",
    "    def refresh_interface_style():\n",
    "        # print(\"Title labels: \" + str(InterfaceStyleConfig.title_labels))\n",
    "        # print(\"Panel One labels: \" + str(InterfaceStyleConfig.panel_one_labels))\n",
    "        # print(\"Panel Two labels: \" + str(InterfaceStyleConfig.panel_two_labels))\n",
    "        # print(\"Panel Three labels: \" + str(InterfaceStyleConfig.panel_three_labels))\n",
    "\n",
    "        \n",
    "        for label in InterfaceStyleConfig.title_labels:\n",
    "            label.configure(font=Fonts.main_title_font, padx=10, pady=10)\n",
    "\n",
    "        for label in InterfaceStyleConfig.panel_one_labels:\n",
    "            label.configure(bg=Palettes.panel_one_color, fg=Palettes.panel_one_text_color, font=Fonts.sub_title_font)\n",
    "        \n",
    "        for label in InterfaceStyleConfig.panel_two_labels:\n",
    "            label.configure(bg=Palettes.panel_two_color, fg=Palettes.panel_two_text_color, font=Fonts.sub_title_font)\n",
    "        \n",
    "        for label in InterfaceStyleConfig.panel_three_labels:\n",
    "            label.configure(bg=Palettes.panel_three_color, fg=Palettes.panel_three_text_color, font=Fonts.sub_title_font)\n",
    "\n",
    "        for label in InterfaceStyleConfig.panel_four_labels:\n",
    "            label.configure(bg=Palettes.panel_four_color, fg=Palettes.panel_four_text_color, font=Fonts.sub_title_font)"
   ]
  },
  {
   "cell_type": "code",
   "execution_count": null,
   "id": "89eb9e55-c5ed-4e32-85e3-39863433af03",
   "metadata": {},
   "outputs": [],
   "source": [
    "print(\"InterfaceStyleConfig class loaded.\")"
   ]
  }
 ],
 "metadata": {
  "kernelspec": {
   "display_name": "Python 3 (ipykernel)",
   "language": "python",
   "name": "python3"
  },
  "language_info": {
   "codemirror_mode": {
    "name": "ipython",
    "version": 3
   },
   "file_extension": ".py",
   "mimetype": "text/x-python",
   "name": "python",
   "nbconvert_exporter": "python",
   "pygments_lexer": "ipython3",
   "version": "3.12.1"
  }
 },
 "nbformat": 4,
 "nbformat_minor": 5
}
