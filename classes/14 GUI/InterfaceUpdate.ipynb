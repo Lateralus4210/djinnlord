{
 "cells": [
  {
   "cell_type": "code",
   "execution_count": 1,
   "id": "9e2fc1e8-77c0-4658-917f-b07341b4179b",
   "metadata": {},
   "outputs": [],
   "source": [
    "class InterfaceUpdate:\n",
    "    def update_character_position_current_label():\n",
    "        \n",
    "        x, y = CharacterLocation.position_current\n",
    "        if x > 0:\n",
    "            x_str = f\"+{x}\"\n",
    "        elif x == 0:\n",
    "            x_str = f\"+0\"\n",
    "        else:\n",
    "            x_str = str(x) \n",
    "        if y > 0:\n",
    "            y_str = f\"+{y}\"\n",
    "        elif y == 0:\n",
    "            y_str = f\"+0\"\n",
    "        else:\n",
    "            y_str = str(y)\n",
    "    \n",
    "        LocationFrame.position_current_label.config(text=f\"({x_str}, {y_str})\")\n",
    "\n",
    "    def add_entry_text():\n",
    "        if User.user_input:\n",
    "            User.user_input_capitalized = User.user_input.upper()  # Capitalize all characters\n",
    "            CommandsFrame.entry_listbox.insert(0, \"    -------------------------\")\n",
    "            CommandsFrame.entry_listbox.insert(0, \"    PLAYER:   \" + str(User.user_input_capitalized))\n",
    "            CommandsFrame.entry_listbox.insert(0, \"    -------------------------\")\n",
    "            #print(\"Added \" + Player.user_input + \" to the listbox.\")"
   ]
  },
  {
   "cell_type": "code",
   "execution_count": 2,
   "id": "baa3ec69-9bcd-4ffc-9559-e1ebd57cfd83",
   "metadata": {},
   "outputs": [
    {
     "name": "stdout",
     "output_type": "stream",
     "text": [
      "InterfaceUpdate class loaded.\n"
     ]
    }
   ],
   "source": [
    "print(\"InterfaceUpdate class loaded.\")"
   ]
  },
  {
   "cell_type": "code",
   "execution_count": null,
   "id": "04f1f2f3-e700-4ee4-90fd-998fed6b7578",
   "metadata": {},
   "outputs": [],
   "source": []
  }
 ],
 "metadata": {
  "kernelspec": {
   "display_name": "Python 3 (ipykernel)",
   "language": "python",
   "name": "python3"
  },
  "language_info": {
   "codemirror_mode": {
    "name": "ipython",
    "version": 3
   },
   "file_extension": ".py",
   "mimetype": "text/x-python",
   "name": "python",
   "nbconvert_exporter": "python",
   "pygments_lexer": "ipython3",
   "version": "3.12.1"
  }
 },
 "nbformat": 4,
 "nbformat_minor": 5
}
