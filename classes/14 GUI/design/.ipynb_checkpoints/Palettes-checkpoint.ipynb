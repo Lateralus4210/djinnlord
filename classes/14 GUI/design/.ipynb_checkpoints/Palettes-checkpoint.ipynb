{
 "cells": [
  {
   "cell_type": "code",
   "execution_count": 1,
   "id": "0f01c221-ffaa-437a-a3f8-31fa2ea1cb4f",
   "metadata": {},
   "outputs": [],
   "source": [
    "class Palettes:\n",
    "    palette_number = 1\n",
    "    \n",
    "    panel_one_color = Colors.color_licorice\n",
    "    panel_two_color = Colors.color_matte_black\n",
    "    panel_three_color = Colors.color_steel_moss\n",
    "\n",
    "    panel_one_text_color = \"gray\"\n",
    "    panel_two_text_color = \"gray\"\n",
    "    panel_three_text_color = \"black\"\n",
    "\n",
    "\n",
    "    def update_palette(palette_number):\n",
    "\n",
    "        if palette_number == 1:\n",
    "            Palettes.panel_one_color = color_licorice\n",
    "            Palettes.panel_two_color = color_matte_black\n",
    "            Palettes.panel_three_color = color_steel_moss\n",
    "\n",
    "            Palettes.panel_one_text_color = \"gray\"\n",
    "            Palettes.panel_two_text_color = \"black\"\n",
    "            Palettes.panel_three_text_color = \"black\"\n",
    "\n",
    "        if palette_number == 2:\n",
    "            Palettes.panel_one_color = color_matte_black\n",
    "            Palettes.panel_two_color = color_sage_gray\n",
    "            Palettes.panel_three_color = color_steel_moss\n",
    "            \n",
    "#            Colors.panel_one_text_color\n",
    "#            Colors.panel_two_text_color\n",
    "#            Colors.panel_three_text_color    "
   ]
  },
  {
   "cell_type": "code",
   "execution_count": null,
   "id": "38348aa7-7315-4aa1-a0c1-f68e98b351eb",
   "metadata": {},
   "outputs": [],
   "source": [
    "print(\"Palettes class loaded.\")"
   ]
  }
 ],
 "metadata": {
  "kernelspec": {
   "display_name": "Python 3 (ipykernel)",
   "language": "python",
   "name": "python3"
  },
  "language_info": {
   "codemirror_mode": {
    "name": "ipython",
    "version": 3
   },
   "file_extension": ".py",
   "mimetype": "text/x-python",
   "name": "python",
   "nbconvert_exporter": "python",
   "pygments_lexer": "ipython3",
   "version": "3.12.1"
  }
 },
 "nbformat": 4,
 "nbformat_minor": 5
}
