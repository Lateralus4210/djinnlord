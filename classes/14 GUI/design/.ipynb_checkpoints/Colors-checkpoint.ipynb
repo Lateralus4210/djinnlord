{
 "cells": [
  {
   "cell_type": "code",
   "execution_count": null,
   "id": "8265045b-b193-4a8a-8586-6be103803d32",
   "metadata": {},
   "outputs": [],
   "source": [
    "class Colors:\n",
    "    \n",
    "    # Color dictionary\n",
    "    color_matte_black = \"#28282B\"\n",
    "    color_licorice = \"#1B1212\"\n",
    "    color_olive_slate = \"#5B6356\"\n",
    "    color_sage_gray = \"#7C8C72\"\n",
    "    color_steel_moss = \"#4D5D53\"\n",
    "    #color_dark_olive_green = \"#556B2F\"\n",
    "    #color_charcoal_green = \"#36454F\"\n",
    "    #color_mossy_gray = \"#6E7E56\"\n",
    "    #color_slate_green = \"#59666E\"\n",
    "    #color_forest_gray = \"#465352\"\n",
    "    #color_hunter_green = \"#355E3B\"\n",
    "    #color_camouflage_green = \"#78866B\""
   ]
  },
  {
   "cell_type": "code",
   "execution_count": null,
   "id": "8d6d0a02-ffcb-49af-be82-6d754933554b",
   "metadata": {},
   "outputs": [],
   "source": [
    "print(\"Colors class loaded.\") "
   ]
  }
 ],
 "metadata": {
  "kernelspec": {
   "display_name": "Python 3 (ipykernel)",
   "language": "python",
   "name": "python3"
  },
  "language_info": {
   "codemirror_mode": {
    "name": "ipython",
    "version": 3
   },
   "file_extension": ".py",
   "mimetype": "text/x-python",
   "name": "python",
   "nbconvert_exporter": "python",
   "pygments_lexer": "ipython3",
   "version": "3.12.1"
  }
 },
 "nbformat": 4,
 "nbformat_minor": 5
}
