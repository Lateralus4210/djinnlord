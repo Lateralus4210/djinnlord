{
 "cells": [
  {
   "cell_type": "code",
   "execution_count": null,
   "id": "1917fbc9-f7af-4094-bd8a-0f20c0cd8f45",
   "metadata": {},
   "outputs": [],
   "source": [
    "\n",
    "#    Monaco\n",
    "#    Algerian\n",
    "#    Amiri Quran\n",
    "#    Californian FB\n",
    "#    Castellar\n",
    "#    Constantia # use for uninteresting text\n",
    "#    Fixedsys\n",
    "#    Imprint MT Shadow\n",
    "#    Informal Roman\n",
    "#    Ink Free\n",
    "#    Javanese Text\n",
    "#    Modern No. 20\n",
    "#    Mongolian Baiti\n",
    "#    Perpetua Titling MT\n",
    "#    Vivaldi\n",
    "\n",
    "\n",
    "class Fonts:\n",
    "    grand_title_font = (\"Vivaldi\", 72, \"bold\")\n",
    "    main_title_font = (\"Imprint MT Shadow\", 22, \"bold\")\n",
    "    sub_title_font = (\"Imprint MT Shadow\", 16)\n",
    "    #main_text_font = \n",
    "    #sub_text_font = \n",
    "    \n",
    "    # Color dictionary\n",
    "    color_matte_black = \"#28282B\"\n",
    "    color_licorice = \"#1B1212\"\n",
    "    color_olive_slate = \"#5B6356\"\n",
    "    color_sage_gray = \"#7C8C72\"\n",
    "    color_steel_moss = \"#4D5D53\"\n",
    "    #color_dark_olive_green = \"#556B2F\"\n",
    "    #color_charcoal_green = \"#36454F\"\n",
    "    #color_mossy_gray = \"#6E7E56\"\n",
    "    #color_slate_green = \"#59666E\"\n",
    "    #color_forest_gray = \"#465352\"\n",
    "    #color_hunter_green = \"#355E3B\"\n",
    "    #color_camouflage_green = \"#78866B\""
   ]
  },
  {
   "cell_type": "code",
   "execution_count": null,
   "id": "7b2efbbc-004c-4379-a46b-464289541d8c",
   "metadata": {},
   "outputs": [],
   "source": [
    "print(\"Fonts class loaded.\")"
   ]
  }
 ],
 "metadata": {
  "kernelspec": {
   "display_name": "Python 3 (ipykernel)",
   "language": "python",
   "name": "python3"
  },
  "language_info": {
   "codemirror_mode": {
    "name": "ipython",
    "version": 3
   },
   "file_extension": ".py",
   "mimetype": "text/x-python",
   "name": "python",
   "nbconvert_exporter": "python",
   "pygments_lexer": "ipython3",
   "version": "3.12.1"
  }
 },
 "nbformat": 4,
 "nbformat_minor": 5
}
