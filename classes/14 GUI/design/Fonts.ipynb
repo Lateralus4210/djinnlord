{
 "cells": [
  {
   "cell_type": "code",
   "execution_count": null,
   "id": "1917fbc9-f7af-4094-bd8a-0f20c0cd8f45",
   "metadata": {},
   "outputs": [],
   "source": [
    "class Fonts:\n",
    "    grand_title_font = (\"Vivaldi\", 72, \"bold\")\n",
    "    main_title_font = (\"Imprint MT Shadow\", 22, \"bold\")\n",
    "    sub_title_font = (\"Imprint MT Shadow\", 16)\n",
    "    #main_text_font = \n",
    "    #sub_text_font = \n",
    "\n",
    "#    Monaco\n",
    "#    Algerian\n",
    "#    Amiri Quran\n",
    "#    Californian FB\n",
    "#    Castellar\n",
    "#    Constantia # use for uninteresting text\n",
    "#    Fixedsys\n",
    "#    Imprint MT Shadow\n",
    "#    Informal Roman\n",
    "#    Ink Free\n",
    "#    Javanese Text\n",
    "#    Modern No. 20\n",
    "#    Mongolian Baiti\n",
    "#    Perpetua Titling MT\n",
    "#    Vivaldi"
   ]
  },
  {
   "cell_type": "code",
   "execution_count": null,
   "id": "7b2efbbc-004c-4379-a46b-464289541d8c",
   "metadata": {},
   "outputs": [],
   "source": [
    "print(\"Fonts class loaded.\")"
   ]
  }
 ],
 "metadata": {
  "kernelspec": {
   "display_name": "Python 3 (ipykernel)",
   "language": "python",
   "name": "python3"
  },
  "language_info": {
   "codemirror_mode": {
    "name": "ipython",
    "version": 3
   },
   "file_extension": ".py",
   "mimetype": "text/x-python",
   "name": "python",
   "nbconvert_exporter": "python",
   "pygments_lexer": "ipython3",
   "version": "3.12.1"
  }
 },
 "nbformat": 4,
 "nbformat_minor": 5
}
