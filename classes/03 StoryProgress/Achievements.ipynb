{
 "cells": [
  {
   "cell_type": "code",
   "execution_count": null,
   "id": "cf4a77c4-9bbb-45c8-8f41-490f539c4631",
   "metadata": {},
   "outputs": [],
   "source": [
    "class Achievements:\n",
    "    pass"
   ]
  },
  {
   "cell_type": "code",
   "execution_count": null,
   "id": "b04e326e-fdbb-4e88-82b6-507ba12895a8",
   "metadata": {},
   "outputs": [],
   "source": [
    "print(\"Achievements class loaded.\")"
   ]
  }
 ],
 "metadata": {
  "kernelspec": {
   "display_name": "Python 3 (ipykernel)",
   "language": "python",
   "name": "python3"
  },
  "language_info": {
   "codemirror_mode": {
    "name": "ipython",
    "version": 3
   },
   "file_extension": ".py",
   "mimetype": "text/x-python",
   "name": "python",
   "nbconvert_exporter": "python",
   "pygments_lexer": "ipython3",
   "version": "3.12.1"
  }
 },
 "nbformat": 4,
 "nbformat_minor": 5
}
