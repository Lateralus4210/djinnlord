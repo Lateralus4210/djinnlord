{
 "cells": [
  {
   "cell_type": "code",
   "execution_count": null,
   "id": "1cc250b8-7261-4ede-9dbf-59d7b11a8756",
   "metadata": {},
   "outputs": [],
   "source": [
    "class Dialogue:\n",
    "    pass"
   ]
  },
  {
   "cell_type": "code",
   "execution_count": null,
   "id": "1da3468f-f2c2-40fa-b899-fb284caf0762",
   "metadata": {},
   "outputs": [],
   "source": [
    "print(\"Dialogue class loaded.\")"
   ]
  }
 ],
 "metadata": {
  "kernelspec": {
   "display_name": "Python 3 (ipykernel)",
   "language": "python",
   "name": "python3"
  },
  "language_info": {
   "codemirror_mode": {
    "name": "ipython",
    "version": 3
   },
   "file_extension": ".py",
   "mimetype": "text/x-python",
   "name": "python",
   "nbconvert_exporter": "python",
   "pygments_lexer": "ipython3",
   "version": "3.12.1"
  }
 },
 "nbformat": 4,
 "nbformat_minor": 5
}
