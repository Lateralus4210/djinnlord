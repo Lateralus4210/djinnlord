{
 "cells": [
  {
   "cell_type": "code",
   "execution_count": null,
   "id": "ac2e6eda-48db-446e-b73a-46a543647936",
   "metadata": {},
   "outputs": [],
   "source": [
    "%run \"classes/03 StoryProgress/Achievements.ipynb\"\n",
    "%run \"classes/03 StoryProgress/Quests.ipynb\"\n",
    "%run \"classes/03 StoryProgress/Dialogue.ipynb\""
   ]
  }
 ],
 "metadata": {
  "kernelspec": {
   "display_name": "Python 3 (ipykernel)",
   "language": "python",
   "name": "python3"
  },
  "language_info": {
   "codemirror_mode": {
    "name": "ipython",
    "version": 3
   },
   "file_extension": ".py",
   "mimetype": "text/x-python",
   "name": "python",
   "nbconvert_exporter": "python",
   "pygments_lexer": "ipython3",
   "version": "3.12.1"
  }
 },
 "nbformat": 4,
 "nbformat_minor": 5
}
