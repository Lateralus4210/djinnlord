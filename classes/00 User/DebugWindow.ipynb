{
 "cells": [
  {
   "cell_type": "code",
   "execution_count": 2,
   "id": "118c653b-e07a-49cb-9961-4be65b11ae05",
   "metadata": {},
   "outputs": [
    {
     "ename": "NameError",
     "evalue": "name 'screen_width' is not defined",
     "output_type": "error",
     "traceback": [
      "\u001b[1;31m---------------------------------------------------------------------------\u001b[0m",
      "\u001b[1;31mNameError\u001b[0m                                 Traceback (most recent call last)",
      "Cell \u001b[1;32mIn[2], line 6\u001b[0m\n\u001b[0;32m      2\u001b[0m \u001b[38;5;28;01mfrom\u001b[39;00m \u001b[38;5;21;01mdatetime\u001b[39;00m \u001b[38;5;28;01mimport\u001b[39;00m datetime\n\u001b[0;32m      4\u001b[0m debug_window \u001b[38;5;241m=\u001b[39m tk\u001b[38;5;241m.\u001b[39mTk()\n\u001b[1;32m----> 6\u001b[0m debug_x \u001b[38;5;241m=\u001b[39m \u001b[43mscreen_width\u001b[49m\u001b[38;5;241m-\u001b[39m\u001b[38;5;241m550\u001b[39m\n\u001b[0;32m      7\u001b[0m debug_y \u001b[38;5;241m=\u001b[39m \u001b[38;5;241m100\u001b[39m\n\u001b[0;32m      8\u001b[0m geometry_str \u001b[38;5;241m=\u001b[39m \u001b[38;5;124mf\u001b[39m\u001b[38;5;124m\"\u001b[39m\u001b[38;5;124m300x500+\u001b[39m\u001b[38;5;132;01m{\u001b[39;00mdebug_x\u001b[38;5;132;01m}\u001b[39;00m\u001b[38;5;124m+\u001b[39m\u001b[38;5;132;01m{\u001b[39;00mdebug_y\u001b[38;5;132;01m}\u001b[39;00m\u001b[38;5;124m\"\u001b[39m\n",
      "\u001b[1;31mNameError\u001b[0m: name 'screen_width' is not defined"
     ]
    }
   ],
   "source": [
    "debug_window = tk.Tk()\n",
    "\n",
    "debug_x = screen_width-550\n",
    "debug_y = 100\n",
    "geometry_str = f\"300x500+{debug_x}+{debug_y}\"\n",
    "\n",
    "debug_window.title(\"Debug Window\")\n",
    "debug_window.geometry(geometry_str)\n",
    "debug_window.configure(bg=\"#FFFFFF\")\n",
    "debug_window.wm_attributes(\"-topmost\", 1)\n",
    "debug_window.resizable(False, False)\n",
    "\n",
    "\n",
    "debug_window_frame = tk.Frame(debug_window, height=800, width=500, bg=\"white\")\n",
    "debug_window_frame.pack()\n",
    "\n",
    "debug_listbox = tk.Listbox(debug_window_frame,\n",
    "                           font=\"FixedSys\",\n",
    "                           bd=1,\n",
    "                           selectmode=tk.NONE,\n",
    "                           width=60,  # Set the width to 20 characters\n",
    "                           height=60)  # Set the height to 10 lines)\n",
    "                           #yscrollcommand=yscroll.set)\n",
    "debug_listbox.pack()\n",
    "\n",
    "debug_window_open = True  # Flag to track if debug_window is open\n",
    "\n",
    "debug_listbox.insert(0, \"Debug window created.\")\n",
    "\n",
    "def on_debug_window_close():\n",
    "    global debug_window_open\n",
    "    debug_window_open = False\n",
    "    debug_window.destroy()\n",
    "\n",
    "debug_window.protocol(\"WM_DELETE_WINDOW\", on_debug_window_close)  # Set the flag when the window is closed\n"
   ]
  },
  {
   "cell_type": "code",
   "execution_count": null,
   "id": "2fd68494-aa8a-4aaa-b85c-cca0ec087894",
   "metadata": {
    "collapsed": true,
    "jupyter": {
     "outputs_hidden": true
    }
   },
   "outputs": [],
   "source": [
    "print(\"DebugWindow created and configured.\")"
   ]
  }
 ],
 "metadata": {
  "kernelspec": {
   "display_name": "Python 3 (ipykernel)",
   "language": "python",
   "name": "python3"
  },
  "language_info": {
   "codemirror_mode": {
    "name": "ipython",
    "version": 3
   },
   "file_extension": ".py",
   "mimetype": "text/x-python",
   "name": "python",
   "nbconvert_exporter": "python",
   "pygments_lexer": "ipython3",
   "version": "3.12.1"
  }
 },
 "nbformat": 4,
 "nbformat_minor": 5
}
