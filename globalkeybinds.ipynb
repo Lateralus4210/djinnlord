{
 "cells": [
  {
   "cell_type": "code",
   "execution_count": null,
   "id": "eb7d6e0d-72c1-4ea6-bd0c-2ffef8f679e6",
   "metadata": {},
   "outputs": [],
   "source": [
    "#keybinds\n",
    "\n",
    "def quit_program(event=None):\n",
    "    result = messagebox.askquestion(\"Quit\", \"Quit the game?\")\n",
    "    if result == \"yes\":\n",
    "        if root and root.winfo_exists():\n",
    "            root.destroy()\n",
    "\n",
    "        # Check the flag before trying to destroy debug_window\n",
    "        if debug_window_open:\n",
    "            debug_window.destroy()\n",
    "\n",
    "# Bind the Escape key to quit_program for both windows\n",
    "root.bind('<Escape>', quit_program)\n",
    "debug_window.bind('<Escape>', quit_program)\n",
    "\n",
    "print(\"Keybinds loadout successful.\")\n",
    "\n"
   ]
  }
 ],
 "metadata": {
  "kernelspec": {
   "display_name": "Python 3 (ipykernel)",
   "language": "python",
   "name": "python3"
  },
  "language_info": {
   "codemirror_mode": {
    "name": "ipython",
    "version": 3
   },
   "file_extension": ".py",
   "mimetype": "text/x-python",
   "name": "python",
   "nbconvert_exporter": "python",
   "pygments_lexer": "ipython3",
   "version": "3.12.1"
  }
 },
 "nbformat": 4,
 "nbformat_minor": 5
}
