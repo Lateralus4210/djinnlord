{
 "cells": [
  {
   "cell_type": "code",
   "execution_count": null,
   "id": "b2e401a2-0685-48cb-8080-d6c63595e0f0",
   "metadata": {},
   "outputs": [],
   "source": [
    "import tkinter as tk\n",
    "from tkinter import ttk\n",
    "from tkinter import messagebox\n",
    "from tkinter import simpledialog\n",
    "from tkinter import Scrollbar\n",
    "import random\n",
    "import time\n",
    "import asyncio\n",
    "import sys\n",
    "import pkgutil\n",
    "import csv\n",
    "from pprint import pprint\n",
    "\n",
    "# import fileinput\n",
    "# import collections\n",
    "# import math, os, datetime, json, csv\n",
    "#    numpy (numberical computations), pandas (data manipulation/analysis), \n",
    "#    matplotlib/seaborn (data visualization), requests (HTTP requests), \n",
    "#    flask/Django (web dev), tensorflow/PyTorch (machine learning and deep learning)\n",
    "# import PIL\n",
    "\n",
    "# print(dir(tkinter)) (example)\n"
   ]
  },
  {
   "cell_type": "code",
   "execution_count": null,
   "id": "545fdc18-25e8-4190-925b-62400acb6b10",
   "metadata": {},
   "outputs": [],
   "source": [
    "print(\"Imports successful.\")"
   ]
  }
 ],
 "metadata": {
  "kernelspec": {
   "display_name": "Python 3 (ipykernel)",
   "language": "python",
   "name": "python3"
  },
  "language_info": {
   "codemirror_mode": {
    "name": "ipython",
    "version": 3
   },
   "file_extension": ".py",
   "mimetype": "text/x-python",
   "name": "python",
   "nbconvert_exporter": "python",
   "pygments_lexer": "ipython3",
   "version": "3.12.1"
  }
 },
 "nbformat": 4,
 "nbformat_minor": 5
}
