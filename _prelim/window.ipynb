{
 "cells": [
  {
   "cell_type": "code",
   "execution_count": 4,
   "id": "c49be47e-28e8-4621-8934-1e6e3f2802ee",
   "metadata": {
    "collapsed": true,
    "jupyter": {
     "outputs_hidden": true
    }
   },
   "outputs": [
    {
     "ename": "NameError",
     "evalue": "name 'tk' is not defined",
     "output_type": "error",
     "traceback": [
      "\u001b[1;31m---------------------------------------------------------------------------\u001b[0m",
      "\u001b[1;31mNameError\u001b[0m                                 Traceback (most recent call last)",
      "Cell \u001b[1;32mIn[4], line 1\u001b[0m\n\u001b[1;32m----> 1\u001b[0m root \u001b[38;5;241m=\u001b[39m \u001b[43mtk\u001b[49m\u001b[38;5;241m.\u001b[39mTk()\n\u001b[0;32m      3\u001b[0m screen_height \u001b[38;5;241m=\u001b[39m root\u001b[38;5;241m.\u001b[39mwinfo_screenheight()\n\u001b[0;32m      4\u001b[0m screen_width \u001b[38;5;241m=\u001b[39m root\u001b[38;5;241m.\u001b[39mwinfo_screenwidth()\n",
      "\u001b[1;31mNameError\u001b[0m: name 'tk' is not defined"
     ]
    }
   ],
   "source": [
    "root = tk.Tk()\n",
    "\n",
    "screen_height = root.winfo_screenheight()\n",
    "screen_width = root.winfo_screenwidth()\n",
    "print(\"Screen height: \" + str(screen_height) + \", \" + \"Screen width: \" + str(screen_width))\n",
    "\n",
    "root.title(\"Djinnlord 051\")\n",
    "root.geometry(f\"{screen_width}x{screen_height}\")\n",
    "root.configure(bg=\"#000000\") \n",
    "root.attributes('-fullscreen', True)\n",
    "root.resizable(False, False)\n",
    "root.focus_force()\n",
    "\n",
    "print(\"Main Window created and configured.\")\n"
   ]
  },
  {
   "cell_type": "code",
   "execution_count": null,
   "id": "a62914f3-ad88-46c3-8f9a-e0ad3a6bd275",
   "metadata": {
    "collapsed": true,
    "jupyter": {
     "outputs_hidden": true
    }
   },
   "outputs": [],
   "source": []
  }
 ],
 "metadata": {
  "kernelspec": {
   "display_name": "Python 3 (ipykernel)",
   "language": "python",
   "name": "python3"
  },
  "language_info": {
   "codemirror_mode": {
    "name": "ipython",
    "version": 3
   },
   "file_extension": ".py",
   "mimetype": "text/x-python",
   "name": "python",
   "nbconvert_exporter": "python",
   "pygments_lexer": "ipython3",
   "version": "3.12.1"
  }
 },
 "nbformat": 4,
 "nbformat_minor": 5
}
